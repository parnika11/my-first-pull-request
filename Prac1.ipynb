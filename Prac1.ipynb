{
  "nbformat": 4,
  "nbformat_minor": 0,
  "metadata": {
    "colab": {
      "name": "Prac1.ipynb",
      "provenance": [],
      "collapsed_sections": [],
      "authorship_tag": "ABX9TyMSgdcNd4h5tx0JR5mge3GU",
      "include_colab_link": true
    },
    "kernelspec": {
      "name": "python3",
      "display_name": "Python 3"
    }
  },
  "cells": [
    {
      "cell_type": "markdown",
      "metadata": {
        "id": "view-in-github",
        "colab_type": "text"
      },
      "source": [
        "<a href=\"https://colab.research.google.com/github/parnika11/my-first-pull-request/blob/development/Prac1.ipynb\" target=\"_parent\"><img src=\"https://colab.research.google.com/assets/colab-badge.svg\" alt=\"Open In Colab\"/></a>"
      ]
    },
    {
      "cell_type": "code",
      "metadata": {
        "id": "33pKvkjF_3tM",
        "colab_type": "code",
        "colab": {
          "base_uri": "https://localhost:8080/",
          "height": 50
        },
        "outputId": "993ff09a-79be-49fc-835f-062a2323081c"
      },
      "source": [
        "@author = parnika \n",
        "\n",
        "from IPython.display import display\n",
        "from PIL import Image\n",
        "\n",
        "# Program for Handwritten Character Recognition using tensorflow, keras on MNIST dataset\n",
        "\n",
        "import tensorflow as tf\n",
        "(x_train, y_train), (x_test, y_test) = tf.keras.datasets.mnist.load_data()\n",
        "# Above statement imports and loads the MNIST dataset from the net\n",
        "# x_train  has 60000 image samples, x_test has 10000 image samples\n",
        "\n",
        "import matplotlib.pyplot as plt\n",
        "#matplotlib inline # Only use this if using iPython"
      ],
      "execution_count": 1,
      "outputs": [
        {
          "output_type": "stream",
          "text": [
            "Downloading data from https://storage.googleapis.com/tensorflow/tf-keras-datasets/mnist.npz\n",
            "11493376/11490434 [==============================] - 0s 0us/step\n"
          ],
          "name": "stdout"
        }
      ]
    },
    {
      "cell_type": "code",
      "metadata": {
        "id": "RyuKA3hfAMbk",
        "colab_type": "code",
        "colab": {
          "base_uri": "https://localhost:8080/",
          "height": 332
        },
        "outputId": "a714952d-909e-4b6f-95b2-4fdcc6f98b06"
      },
      "source": [
        "image_index = 7777 # You may select anything up to 60,000\n",
        "print(y_train[image_index]) # The label is 8\n",
        "plt.imshow(x_train[image_index], cmap='Greys')\n",
        "\n",
        "# Reshaping the array to 4-dims so that it can work with the Keras API\n",
        "x_train = x_train.reshape(x_train.shape[0], 28, 28, 1)\n",
        "x_test = x_test.reshape(x_test.shape[0], 28, 28, 1)\n",
        "input_shape = (28, 28, 1)\n",
        "\n",
        "# Making sure that the values are float so that we can get decimal points after division\n",
        "x_train = x_train.astype('float32')\n",
        "x_test = x_test.astype('float32')\n",
        "\n",
        "# Normalizing the RGB codes by dividing it to the max RGB value.\n",
        "x_train /= 255\n",
        "x_test /= 255\n",
        "print('x_train shape:', x_train.shape)\n",
        "print('Number of images in x_train', x_train.shape[0])\n",
        "print('Number of images in x_test', x_test.shape[0])"
      ],
      "execution_count": 2,
      "outputs": [
        {
          "output_type": "stream",
          "text": [
            "8\n",
            "x_train shape: (60000, 28, 28, 1)\n",
            "Number of images in x_train 60000\n",
            "Number of images in x_test 10000\n"
          ],
          "name": "stdout"
        },
        {
          "output_type": "display_data",
          "data": {
            "image/png": "[encoded data removed]",
            "text/plain": [
              "<Figure size 432x288 with 1 Axes>"
            ]
          },
          "metadata": {
            "tags": [],
            "needs_background": "light"
          }
        }
      ]
    },
    {
      "cell_type": "code",
      "metadata": {
        "id": "8H3MPT8AAUIP",
        "colab_type": "code",
        "colab": {
          "base_uri": "https://localhost:8080/",
          "height": 668
        },
        "outputId": "e0e36ef3-86ef-4ae9-9bd8-a4c3e0f1ff9b"
      },
      "source": [
        "# Importing the required Keras modules containing model and layers\n",
        "from keras.models import Sequential\n",
        "from keras.layers import Dense, Conv2D, Dropout, Flatten, MaxPooling2D\n",
        "\n",
        "# Creating a Sequential Model and adding the layers\n",
        "model = Sequential()\n",
        "model.add(Conv2D(28, kernel_size=(3,3), input_shape=input_shape))\n",
        "model.add(MaxPooling2D(pool_size=(2, 2)))\n",
        "model.add(Flatten()) # Flattening the 2D arrays for fully connected layers\n",
        "model.add(Dense(128, activation=tf.nn.relu))\n",
        "model.add(Dropout(0.2))\n",
        "model.add(Dense(10,activation=tf.nn.softmax))\n",
        "\n",
        "# Compiling and fitting the model\n",
        "model.compile(optimizer='adam', \n",
        "              loss='sparse_categorical_crossentropy', \n",
        "              metrics=['accuracy'])\n",
        "model.fit(x=x_train,y=y_train, epochs = 10)\n",
        "\n",
        "#Evaluating the Model\n",
        "model.evaluate(x_test, y_test)\n",
        "\n",
        "\n",
        "# Making individual predivtions\n",
        "image_index = 5020\n",
        "plt.imshow(x_test[image_index].reshape(28, 28),cmap='Greys')\n",
        "pred = model.predict(x_test[image_index].reshape(1, 28, 28, 1))\n",
        "print('The character is ')\n",
        "print(pred.argmax())"
      ],
      "execution_count": 3,
      "outputs": [
        {
          "output_type": "stream",
          "text": [
            "Using TensorFlow backend.\n"
          ],
          "name": "stderr"
        },
        {
          "output_type": "stream",
          "text": [
            "Epoch 1/10\n",
            "60000/60000 [==============================] - 36s 597us/step - loss: 0.2023 - accuracy: 0.9396\n",
            "Epoch 2/10\n",
            "60000/60000 [==============================] - 35s 590us/step - loss: 0.0815 - accuracy: 0.9751\n",
            "Epoch 3/10\n",
            "60000/60000 [==============================] - 36s 596us/step - loss: 0.0577 - accuracy: 0.9811\n",
            "Epoch 4/10\n",
            "60000/60000 [==============================] - 35s 589us/step - loss: 0.0440 - accuracy: 0.9858\n",
            "Epoch 5/10\n",
            "60000/60000 [==============================] - 36s 593us/step - loss: 0.0348 - accuracy: 0.9887\n",
            "Epoch 6/10\n",
            "60000/60000 [==============================] - 35s 589us/step - loss: 0.0286 - accuracy: 0.9904\n",
            "Epoch 7/10\n",
            "60000/60000 [==============================] - 35s 585us/step - loss: 0.0246 - accuracy: 0.9911\n",
            "Epoch 8/10\n",
            "60000/60000 [==============================] - 35s 589us/step - loss: 0.0193 - accuracy: 0.9931\n",
            "Epoch 9/10\n",
            "60000/60000 [==============================] - 35s 590us/step - loss: 0.0169 - accuracy: 0.9944\n",
            "Epoch 10/10\n",
            "60000/60000 [==============================] - 36s 592us/step - loss: 0.0194 - accuracy: 0.9933\n",
            "10000/10000 [==============================] - 2s 192us/step\n",
            "The character is \n",
            "5\n"
          ],
          "name": "stdout"
        },
        {
          "output_type": "display_data",
          "data": {
            "image/png": "[encoded data removed]",
            "text/plain": [
              "<Figure size 432x288 with 1 Axes>"
            ]
          },
          "metadata": {
            "tags": [],
            "needs_background": "light"
          }
        }
      ]
    }
  ]
}